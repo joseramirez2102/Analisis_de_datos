{
  "nbformat": 4,
  "nbformat_minor": 0,
  "metadata": {
    "colab": {
      "provenance": []
    },
    "kernelspec": {
      "name": "python3",
      "display_name": "Python 3"
    },
    "language_info": {
      "name": "python"
    }
  },
  "cells": [
    {
      "cell_type": "code",
      "source": [
        "import pandas as pd\n",
        "\n",
        "students = [('Ana', 23, 'San Jose', 'A'),\n",
        "            ('Esteban', 22, 'Heredia', 'B'),\n",
        "            ('Juan', 22, 'Cartago', 'A'),\n",
        "            ('Karla', 22, 'Limon', 'A'),\n",
        "            ('Ernesto', 21, 'Heredia', 'B')]\n",
        "df = pd.DataFrame(students, columns = ['Nombre', 'Edad','Ciudad','Seccion'])\n",
        "\n",
        "print(df)\n",
        "\n",
        "def getIndexes(dfObj, value):\n",
        "  listOfPos = []\n",
        "  result = dfObj.isin([value])\n",
        "  seriesObj = result.any()\n",
        "  columnNames = list(seriesObj[seriesObj == True].index)\n",
        "\n",
        "  for col in columnNames:\n",
        "    rows = list(result[col][result[col] == True].index)\n",
        "\n",
        "    for rows in rows:\n",
        "      listOfPos.append((rows, col))\n",
        "\n",
        "  return listOfPos\n",
        "\n",
        "listOfPositions = getIndexes(df,22)\n",
        "\n",
        "print('Index positions of 22 in Dataframe : ')\n",
        "\n",
        "for i in range(len(listOfPositions)):\n",
        "  print(listOfPositions[i])"
      ],
      "metadata": {
        "colab": {
          "base_uri": "https://localhost:8080/"
        },
        "id": "sEdWOfbOn_7K",
        "outputId": "14ae96ea-1400-40af-e623-24c25b016299"
      },
      "execution_count": null,
      "outputs": [
        {
          "output_type": "stream",
          "name": "stdout",
          "text": [
            "    Nombre  Edad    Ciudad Seccion\n",
            "0      Ana    23  San Jose       A\n",
            "1  Esteban    22   Heredia       B\n",
            "2     Juan    22   Cartago       A\n",
            "3    Karla    22     Limon       A\n",
            "4  Ernesto    21   Heredia       B\n",
            "Index positions of 22 in Dataframe : \n",
            "(1, 'Edad')\n",
            "(2, 'Edad')\n",
            "(3, 'Edad')\n"
          ]
        }
      ]
    },
    {
      "cell_type": "code",
      "source": [],
      "metadata": {
        "id": "fZq2TGL2oDWT"
      },
      "execution_count": null,
      "outputs": []
    }
  ]
}