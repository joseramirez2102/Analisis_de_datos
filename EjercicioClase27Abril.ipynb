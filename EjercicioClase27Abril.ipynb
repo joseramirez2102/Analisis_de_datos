{
  "nbformat": 4,
  "nbformat_minor": 0,
  "metadata": {
    "colab": {
      "provenance": [],
      "authorship_tag": "ABX9TyOmMlMMqGR2RbDTt3MtU/XG",
      "include_colab_link": true
    },
    "kernelspec": {
      "name": "python3",
      "display_name": "Python 3"
    },
    "language_info": {
      "name": "python"
    }
  },
  "cells": [
    {
      "cell_type": "markdown",
      "metadata": {
        "id": "view-in-github",
        "colab_type": "text"
      },
      "source": [
        "<a href=\"https://colab.research.google.com/github/joseramirez2102/Analisis_de_datos/blob/main/EjercicioClase27Abril.ipynb\" target=\"_parent\"><img src=\"https://colab.research.google.com/assets/colab-badge.svg\" alt=\"Open In Colab\"/></a>"
      ]
    },
    {
      "cell_type": "code",
      "execution_count": null,
      "metadata": {
        "colab": {
          "base_uri": "https://localhost:8080/"
        },
        "id": "aJmob6jrJJf0",
        "outputId": "a61255bd-0378-4e2a-9a75-f08bb1ea7264"
      },
      "outputs": [
        {
          "output_type": "stream",
          "name": "stdout",
          "text": [
            "\n",
            "\n",
            "A-Los paises con mayor indice de homicidios intencionales en el año 2018 son:\n",
            "                         Country  Value\n",
            "1114                 El Salvador   52.0\n",
            "1682                     Jamaica   43.9\n",
            "1459                    Honduras   38.9\n",
            "3534  Venezuela (Boliv. Rep. of)   36.7\n",
            "3062                South Africa   36.4\n",
            "\n",
            "\n",
            "B-Los paises con menor indice de homicidios intencionales en el año 2018 son:\n",
            "               Country  Value\n",
            "2985         Singapore    0.2\n",
            "809   China, Macao SAR    0.3\n",
            "2438              Oman    0.3\n",
            "1709             Japan    0.3\n",
            "762              China    0.5\n",
            "\n",
            "\n",
            "C-Crimen mas repetido por pais en el 2018:\n",
            "Intentional homicide rates per 100,000                                91\n",
            "Assault rate per 100,000 population                                   82\n",
            "Theft at the national level, rate per 100,000 population              75\n",
            "Percentage of male and female intentional homicide victims, Male      74\n",
            "Percentage of male and female intentional homicide victims, Female    73\n",
            "Kidnapping at the national level, rate per 100,000                    67\n",
            "Name: Series, dtype: int64\n",
            "\n",
            "\n",
            "D-Crimen con el porcentaje mas alto en Costa Rica en el 2005\n",
            "        Country                                             Series  Value\n",
            "848  Costa Rica  Theft at the national level, rate per 100,000 ...  195.1\n",
            "845  Costa Rica  Percentage of male and female intentional homi...   12.7\n",
            "844  Costa Rica             Intentional homicide rates per 100,000    7.8\n",
            "846  Costa Rica  Percentage of male and female intentional homi...    2.9\n",
            "847  Costa Rica  Kidnapping at the national level, rate per 100...    0.3\n",
            "\n",
            "\n",
            "E. En el año 2010, cual es la tasa de homicidios en Costa Rica, Panama y Nicaragua.\n",
            "         Country  Value\n",
            "849   Costa Rica   11.5\n",
            "2344   Nicaragua   13.5\n",
            "2471      Panama   12.6\n"
          ]
        }
      ],
      "source": [
        "import pandas as pd\n",
        "import matplotlib.pyplot as plt\n",
        "\n",
        "df=pd.read_csv('/content/CSVInvestigation.csv')\n",
        "data=pd.DataFrame(df)\n",
        "data=data.astype({\"Value\":float})\n",
        "dataFiltered2018=data.loc[(data['Year']==2018)]\n",
        "\n",
        "#print(\"5 paises con mayor indice criminal\")\n",
        "print()\n",
        "print()\n",
        "dataFiltered=data.loc[(data['Series']=='Intentional homicide rates per 100,000')&(data['Year']==2018)]\n",
        "print(\"A-Los paises con mayor indice de homicidios intencionales en el año 2018 son:\")\n",
        "print(dataFiltered.sort_values(by=['Value'], ascending=False)[['Country','Value']].head(5))\n",
        "\n",
        "#print(\"5 paises con menor indice criminal\")\n",
        "print()\n",
        "print()\n",
        "print(\"B-Los paises con menor indice de homicidios intencionales en el año 2018 son:\")\n",
        "print(dataFiltered.sort_values(by=['Value'], ascending=True)[['Country','Value']].head(5))\n",
        "\n",
        "#print(\"Crimen mas repetido por pais en el 2018\")\n",
        "print()\n",
        "print()\n",
        "print('C-Crimen mas repetido por pais en el 2018:')\n",
        "print(dataFiltered2018['Series'].value_counts())\n",
        "\n",
        "#print(\"Crimen con el porcentaje mas alto en CR en el 2005\")\n",
        "print()\n",
        "print()\n",
        "dataFilteredCR=data.loc[(data['Country']=='Costa Rica')&(data['Year']==2005)]\n",
        "print(\"D-Crimen con el porcentaje mas alto en Costa Rica en el 2005\")\n",
        "print(dataFilteredCR.sort_values(by=['Value'], ascending=False)[['Country','Series','Value']])\n",
        "\n",
        "#print(\"E. En el año 2010, cual es la tasa de homicidios en Costa Rica, Panama y Nicaragua.\")\n",
        "print()\n",
        "print()\n",
        "print(\"E. En el año 2010, cual es la tasa de homicidios en Costa Rica, Panama y Nicaragua.\")\n",
        "registro_general=df.loc[(((df[\"Country\"]==\"Costa Rica\")|(df[\"Country\"]==\"Panama\")|(df[\"Country\"]==\"Nicaragua\"))&(df[\"Series\"]==\"Intentional homicide rates per 100,000\")&(df[\"Year\"]==2010))][['Country','Value']]\n",
        "print(registro_general)"
      ]
    }
  ]
}