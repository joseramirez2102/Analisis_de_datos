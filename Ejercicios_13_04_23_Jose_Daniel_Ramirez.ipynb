{
  "nbformat": 4,
  "nbformat_minor": 0,
  "metadata": {
    "colab": {
      "provenance": [],
      "authorship_tag": "ABX9TyN5YCERi7Wyiv0Nryo30ukT",
      "include_colab_link": true
    },
    "kernelspec": {
      "name": "python3",
      "display_name": "Python 3"
    },
    "language_info": {
      "name": "python"
    }
  },
  "cells": [
    {
      "cell_type": "markdown",
      "metadata": {
        "id": "view-in-github",
        "colab_type": "text"
      },
      "source": [
        "<a href=\"https://colab.research.google.com/github/joseramirez2102/Analisis_de_datos/blob/main/Ejercicios_13_04_23_Jose_Daniel_Ramirez.ipynb\" target=\"_parent\"><img src=\"https://colab.research.google.com/assets/colab-badge.svg\" alt=\"Open In Colab\"/></a>"
      ]
    },
    {
      "cell_type": "markdown",
      "source": [
        "**Ejemplo 2**"
      ],
      "metadata": {
        "id": "JFjCTFLJXK13"
      }
    },
    {
      "cell_type": "code",
      "execution_count": null,
      "metadata": {
        "colab": {
          "base_uri": "https://localhost:8080/"
        },
        "id": "RZTF0ksFV0aO",
        "outputId": "2452fcf5-a03d-42d5-8746-9801f171d3b6"
      },
      "outputs": [
        {
          "output_type": "stream",
          "name": "stdout",
          "text": [
            "      Country    Capital  Population\n",
            "0  Costa Rica   San Jose     4500000\n",
            "1       India  New Delhi  1303171035\n",
            "2      Brazil   Brasilia   207847528\n"
          ]
        }
      ],
      "source": [
        "import pandas as pd\n",
        "data = {'Country':['Costa Rica','India','Brazil'],\n",
        "        'Capital':['San Jose','New Delhi','Brasilia'],\n",
        "        'Population':[4500000,1303171035,207847528]}\n",
        "df = pd.DataFrame(data,columns=['Country','Capital','Population'])\n",
        "print(df)"
      ]
    },
    {
      "cell_type": "markdown",
      "source": [
        "**Ejercicio 1**"
      ],
      "metadata": {
        "id": "wdq3gRRyXTKY"
      }
    },
    {
      "cell_type": "code",
      "source": [
        "print(\"Promedio de los elementos del vector\")\n",
        "Suma=0\n",
        "Media=0\n",
        "Temp=[]\n",
        "print(\"Ingrese cantidad de Temperaturas: \")\n",
        "N=int(input())\n",
        "\n",
        "for i in range(N):\n",
        "  temperatura=float(input(\"Ingrese la temperatura: \"))\n",
        "  Temp.append(temperatura)\n",
        "  Suma=Suma+Temp[i]\n",
        "Media=Suma/N\n",
        "print(Media)"
      ],
      "metadata": {
        "colab": {
          "base_uri": "https://localhost:8080/"
        },
        "id": "p9klykN7Xk6_",
        "outputId": "35cc928f-8f03-472f-934a-afcddcd66c8d"
      },
      "execution_count": null,
      "outputs": [
        {
          "output_type": "stream",
          "name": "stdout",
          "text": [
            "Promedio de los elementos del vector\n",
            "Ingrese cantidad de Temperaturas: \n",
            "3\n",
            "Ingrese la temperatura: 30\n",
            "Ingrese la temperatura: 24\n",
            "Ingrese la temperatura: 17\n",
            "23.666666666666668\n"
          ]
        }
      ]
    },
    {
      "cell_type": "code",
      "source": [
        "import pandas as pd\n",
        "mascota = pd.DataFrame(\n",
        "    data = {\n",
        "        'name': ['Minimo','Milo','Snoopy','Blanco','LittlePony'],\n",
        "        'type': ['gato','perro','perro','perro','caballo']\n",
        "    },\n",
        "    index = [71,42,11,98,42]\n",
        ")\n",
        "\n",
        "visitas = pd.DataFrame(\n",
        "    data = {\n",
        "        'pet_id': [42,31,71,42,98,42],\n",
        "        'fecha': ['2019-03-15','2019-03-17','2019-03-21','2019-04-02','2019-04-06','2019-04-10'],\n",
        "        'costo': [2000,5000,1000,3000,4000,2000]\n",
        "    }\n",
        ")\n",
        "\n",
        "mascota.index.rename('pet_id',inplace=True)\n",
        "visitas.index.rename('visit_id',inplace=True)\n",
        "\n",
        "print(mascota.query('pet_id==71'))\n",
        "print(visitas['costo'].sum())\n",
        "print(visitas['costo'].min())\n",
        "print(visitas['costo'].max())\n",
        "print(visitas)\n",
        "\n",
        "print(visitas.sort_values(by='costo',ascending=False))\n",
        "\n",
        "tienda=pd.merge(mascota, visitas, how='cross')\n",
        "\n",
        "print(tienda)"
      ],
      "metadata": {
        "colab": {
          "base_uri": "https://localhost:8080/"
        },
        "id": "NPrmvNjJZa2-",
        "outputId": "fb72ceaf-27ba-4664-d838-11af8f4cdac1"
      },
      "execution_count": null,
      "outputs": [
        {
          "output_type": "stream",
          "name": "stdout",
          "text": [
            "          name  type\n",
            "pet_id              \n",
            "71      Minimo  gato\n",
            "17000\n",
            "1000\n",
            "5000\n",
            "          pet_id       fecha  costo\n",
            "visit_id                           \n",
            "0             42  2019-03-15   2000\n",
            "1             31  2019-03-17   5000\n",
            "2             71  2019-03-21   1000\n",
            "3             42  2019-04-02   3000\n",
            "4             98  2019-04-06   4000\n",
            "5             42  2019-04-10   2000\n",
            "          pet_id       fecha  costo\n",
            "visit_id                           \n",
            "1             31  2019-03-17   5000\n",
            "4             98  2019-04-06   4000\n",
            "3             42  2019-04-02   3000\n",
            "0             42  2019-03-15   2000\n",
            "5             42  2019-04-10   2000\n",
            "2             71  2019-03-21   1000\n",
            "          name     type  pet_id       fecha  costo\n",
            "0       Minimo     gato      42  2019-03-15   2000\n",
            "1       Minimo     gato      31  2019-03-17   5000\n",
            "2       Minimo     gato      71  2019-03-21   1000\n",
            "3       Minimo     gato      42  2019-04-02   3000\n",
            "4       Minimo     gato      98  2019-04-06   4000\n",
            "5       Minimo     gato      42  2019-04-10   2000\n",
            "6         Milo    perro      42  2019-03-15   2000\n",
            "7         Milo    perro      31  2019-03-17   5000\n",
            "8         Milo    perro      71  2019-03-21   1000\n",
            "9         Milo    perro      42  2019-04-02   3000\n",
            "10        Milo    perro      98  2019-04-06   4000\n",
            "11        Milo    perro      42  2019-04-10   2000\n",
            "12      Snoopy    perro      42  2019-03-15   2000\n",
            "13      Snoopy    perro      31  2019-03-17   5000\n",
            "14      Snoopy    perro      71  2019-03-21   1000\n",
            "15      Snoopy    perro      42  2019-04-02   3000\n",
            "16      Snoopy    perro      98  2019-04-06   4000\n",
            "17      Snoopy    perro      42  2019-04-10   2000\n",
            "18      Blanco    perro      42  2019-03-15   2000\n",
            "19      Blanco    perro      31  2019-03-17   5000\n",
            "20      Blanco    perro      71  2019-03-21   1000\n",
            "21      Blanco    perro      42  2019-04-02   3000\n",
            "22      Blanco    perro      98  2019-04-06   4000\n",
            "23      Blanco    perro      42  2019-04-10   2000\n",
            "24  LittlePony  caballo      42  2019-03-15   2000\n",
            "25  LittlePony  caballo      31  2019-03-17   5000\n",
            "26  LittlePony  caballo      71  2019-03-21   1000\n",
            "27  LittlePony  caballo      42  2019-04-02   3000\n",
            "28  LittlePony  caballo      98  2019-04-06   4000\n",
            "29  LittlePony  caballo      42  2019-04-10   2000\n"
          ]
        }
      ]
    },
    {
      "cell_type": "code",
      "source": [],
      "metadata": {
        "id": "vjY52XKagq_M"
      },
      "execution_count": null,
      "outputs": []
    }
  ]
}