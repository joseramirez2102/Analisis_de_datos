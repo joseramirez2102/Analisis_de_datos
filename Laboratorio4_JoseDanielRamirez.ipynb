{
  "nbformat": 4,
  "nbformat_minor": 0,
  "metadata": {
    "colab": {
      "provenance": [],
      "authorship_tag": "ABX9TyNotisgsbiPbRIdPDKinbk0",
      "include_colab_link": true
    },
    "kernelspec": {
      "name": "python3",
      "display_name": "Python 3"
    },
    "language_info": {
      "name": "python"
    }
  },
  "cells": [
    {
      "cell_type": "markdown",
      "metadata": {
        "id": "view-in-github",
        "colab_type": "text"
      },
      "source": [
        "<a href=\"https://colab.research.google.com/github/joseramirez2102/Analisis_de_datos/blob/main/Laboratorio4_JoseDanielRamirez.ipynb\" target=\"_parent\"><img src=\"https://colab.research.google.com/assets/colab-badge.svg\" alt=\"Open In Colab\"/></a>"
      ]
    },
    {
      "cell_type": "code",
      "execution_count": null,
      "metadata": {
        "id": "_N_hS3ITfL3E",
        "outputId": "6c57f646-c7a0-47b5-ac5e-e29348d1f28d",
        "colab": {
          "base_uri": "https://localhost:8080/"
        }
      },
      "outputs": [
        {
          "output_type": "stream",
          "name": "stdout",
          "text": [
            "      Posición            Artista  \\\n",
            "0            1         The Weeknd   \n",
            "1            2         Ed Sheeran   \n",
            "2            3      Lewis Capaldi   \n",
            "3            4        Tones And I   \n",
            "4            5        Post Malone   \n",
            "...        ...                ...   \n",
            "6175      6176       Mariah Carey   \n",
            "6176      6177  Twenty One Pilots   \n",
            "6177      6178           Ludacris   \n",
            "6178      6179               iSHi   \n",
            "6179      6180     Handsome Ghost   \n",
            "\n",
            "                                          Tiítulo Remix/Remastered  Semanas  \\\n",
            "0                                 Blinding Lights              NaN      172   \n",
            "1                                    Shape of You              NaN      308   \n",
            "2                               Someone You Loved              NaN      218   \n",
            "3                                    Dance Monkey              NaN      151   \n",
            "4     Sunflower-Spider Man: Into The Spider-Verse              NaN      225   \n",
            "...                                           ...              ...      ...   \n",
            "6175                                     Infinity              NaN        1   \n",
            "6176                                 Fairly Local              NaN        1   \n",
            "6177                                   Good Lovin              NaN        1   \n",
            "6178                                      Push It              NaN        1   \n",
            "6179                                        Steps              NaN        1   \n",
            "\n",
            "      Top 10  Posición más alta Mayor cantidad de streams diarios  \n",
            "0       64.0                  1                        52,375,259  \n",
            "1       34.0                  1                        64,217,796  \n",
            "2       15.0                  4                        24,962,682  \n",
            "3       41.0                  1                        52,055,226  \n",
            "4       31.0                  1                        34,579,416  \n",
            "...      ...                ...                               ...  \n",
            "6175     NaN                220                           177.495  \n",
            "6176     NaN                234                           176.713  \n",
            "6177     NaN                223                           174.256  \n",
            "6178     NaN                236                           173.886  \n",
            "6179     NaN                239                            166.91  \n",
            "\n",
            "[6180 rows x 8 columns]\n"
          ]
        }
      ],
      "source": [
        "import pandas as pd\n",
        "\n",
        "datos=pd.read_csv('/content/Spotify_world_chart.csv')\n",
        "df=pd.DataFrame(datos)\n",
        "print(df)"
      ]
    },
    {
      "cell_type": "code",
      "source": [],
      "metadata": {
        "id": "1KUjBkV-hnDl"
      },
      "execution_count": null,
      "outputs": []
    }
  ]
}