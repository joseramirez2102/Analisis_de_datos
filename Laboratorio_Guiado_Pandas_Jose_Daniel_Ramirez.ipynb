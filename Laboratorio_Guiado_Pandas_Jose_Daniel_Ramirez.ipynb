{
  "nbformat": 4,
  "nbformat_minor": 0,
  "metadata": {
    "colab": {
      "provenance": [],
      "authorship_tag": "ABX9TyOxMOUr61kIDCmzvLM14uSX",
      "include_colab_link": true
    },
    "kernelspec": {
      "name": "python3",
      "display_name": "Python 3"
    },
    "language_info": {
      "name": "python"
    }
  },
  "cells": [
    {
      "cell_type": "markdown",
      "metadata": {
        "id": "view-in-github",
        "colab_type": "text"
      },
      "source": [
        "<a href=\"https://colab.research.google.com/github/joseramirez2102/Analisis_de_datos/blob/main/Laboratorio_Guiado_Pandas_Jose_Daniel_Ramirez.ipynb\" target=\"_parent\"><img src=\"https://colab.research.google.com/assets/colab-badge.svg\" alt=\"Open In Colab\"/></a>"
      ]
    },
    {
      "cell_type": "code",
      "execution_count": null,
      "metadata": {
        "colab": {
          "base_uri": "https://localhost:8080/"
        },
        "id": "o4AKVarYjPB8",
        "outputId": "ae6369a8-3111-4323-b402-dd951101f3e9"
      },
      "outputs": [
        {
          "output_type": "stream",
          "name": "stdout",
          "text": [
            "    Nombre  Edad    Ciudad Seccion\n",
            "0      Ana    23  San Jose       A\n",
            "1  Esteban    22   Heredia       B\n",
            "2     Juan    22   Cartago       A\n",
            "3    Karla    22     Limon       A\n",
            "4  Ernesto    21   Heredia       B\n",
            "Index positions of 22 in Dataframe : \n",
            "(0, 'Seccion')\n",
            "(2, 'Seccion')\n",
            "(3, 'Seccion')\n"
          ]
        }
      ],
      "source": [
        "import pandas as pd\n",
        "\n",
        "students = [('Ana', 23, 'San Jose', 'A'),\n",
        "            ('Esteban', 22, 'Heredia', 'B'),\n",
        "            ('Juan', 22, 'Cartago', 'A'),\n",
        "            ('Karla', 22, 'Limon', 'A'),\n",
        "            ('Ernesto', 21, 'Heredia', 'B')]\n",
        "df = pd.DataFrame(students, columns = ['Nombre', 'Edad','Ciudad','Seccion'])\n",
        "\n",
        "print(df)\n",
        "\n",
        "def getIndexes(dfObj, value):\n",
        "  listOfPos = []\n",
        "  result = dfObj.isin([value])\n",
        "  seriesObj = result.any()\n",
        "  columnNames = list(seriesObj[seriesObj == True].index)\n",
        "\n",
        "  for col in columnNames:\n",
        "    rows = list(result[col][result[col] == True].index)\n",
        "\n",
        "    for rows in rows:\n",
        "      listOfPos.append((rows, col))\n",
        "\n",
        "  return listOfPos\n",
        "\n",
        "listOfPositions = getIndexes(df,'A')\n",
        "\n",
        "print('Index positions of 22 in Dataframe : ')\n",
        "\n",
        "for i in range(len(listOfPositions)):\n",
        "  print(listOfPositions[i])"
      ]
    },
    {
      "cell_type": "code",
      "source": [],
      "metadata": {
        "id": "7ulP6Hl-kJWu"
      },
      "execution_count": null,
      "outputs": []
    }
  ]
}