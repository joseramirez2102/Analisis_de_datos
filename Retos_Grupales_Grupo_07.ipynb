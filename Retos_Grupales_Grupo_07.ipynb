{
  "nbformat": 4,
  "nbformat_minor": 0,
  "metadata": {
    "colab": {
      "provenance": [],
      "include_colab_link": true
    },
    "kernelspec": {
      "name": "python3",
      "display_name": "Python 3"
    },
    "language_info": {
      "name": "python"
    }
  },
  "cells": [
    {
      "cell_type": "markdown",
      "metadata": {
        "id": "view-in-github",
        "colab_type": "text"
      },
      "source": [
        "<a href=\"https://colab.research.google.com/github/joseramirez2102/Analisis_de_datos/blob/main/Retos_Grupales_Grupo_07.ipynb\" target=\"_parent\"><img src=\"https://colab.research.google.com/assets/colab-badge.svg\" alt=\"Open In Colab\"/></a>"
      ]
    },
    {
      "cell_type": "code",
      "execution_count": null,
      "metadata": {
        "id": "jZVb1722dt31"
      },
      "outputs": [],
      "source": [
        "import pandas as pd\n",
        "import matplotlib.pyplot as plt\n",
        "\n",
        "df=pd.read_csv('/content/Spotify_world_chart.csv')\n",
        "data=pd.DataFrame(df)\n",
        "    \n",
        "#Ejercicio 1: columna vrs fila\n",
        "col_name = input(\"Ingrese el nombre de la cancion: \")\n",
        "col_name2 = input(\"Ingrese el nombre de columna: \")\n",
        "    \n",
        "value = data.loc[data['Título'] == col_name, col_name2].iloc[0]\n",
        "print(f\"Valor de {col_name2} para {col_name}: {value}\")\n",
        "print()\n",
        "\n",
        "#Ejercicio 2: Ordenar la tabla por la columna \"Semanas\"\n",
        "sorted_data = data.sort_values(by='Semanas', ascending=False)\n",
        "print(\"Tabla ordenada por mayor cantidad de semanas:\")\n",
        "print(sorted_data)\n",
        "print()\n",
        "\n",
        "#Ejercicio 3: Mostrar fila por canción y artista ingresado por el usuario\n",
        "col_name3 = input(\"Ingrese el nombre de la cancion: \")\n",
        "col_name4 = input(\"Ingrese el nombre del artista: \")\n",
        "    \n",
        "value = data.loc[(data['Título']==col_name3)&(data['Artista']==col_name4)]\n",
        "print(value)\n",
        "print()\n",
        "\n",
        "#Ejercicio 4: Obtener el valor total de una columna\n",
        "column = input(\"Ingrese el nombre de la columna que quiere sumar: \")\n",
        "suma = data[column].sum()\n",
        "print(f\"La suma de la columna {column} es: {suma}\")\n",
        "\n",
        "#Ejercicio 5: Una consulta con al menos 3 if\n",
        "consulta = input(\"Ingrese su consulta (artista/titulo/posicion): \")\n",
        "\n",
        "#Filtrar por artista\n",
        "if \"artista\" in consulta.lower():\n",
        "    nombre_artista = input(\"Ingrese el nombre del artista: \")\n",
        "    df = df[df['Artista'] == nombre_artista]\n",
        "\n",
        "#Filtrar por titulo\n",
        "if \"titulo\" in consulta.lower():\n",
        "    nombre = input(\"Ingrese el nombre de la cancion: \")\n",
        "    df = df[df['Título'] == nombre]\n",
        "\n",
        "#Ordenar por posicion ascendente o descendente\n",
        "if \"posicion\" in consulta.lower():\n",
        "    orden = input(\"Ingrese 'ascendente' o 'descendente': \")\n",
        "    if orden == \"ascendente\":\n",
        "        df = df.sort_values('Posición', ascending=True)\n",
        "    elif orden == \"descendente\":\n",
        "        df = df.sort_values('Posición', ascending=False)\n",
        "\n",
        "print(df)"
      ]
    }
  ]
}