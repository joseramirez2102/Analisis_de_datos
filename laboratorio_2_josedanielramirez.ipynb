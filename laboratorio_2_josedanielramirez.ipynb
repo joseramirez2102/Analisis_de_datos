{
  "nbformat": 4,
  "nbformat_minor": 0,
  "metadata": {
    "colab": {
      "provenance": [],
      "authorship_tag": "ABX9TyOKXayuJR7BYtKP77rbIwOY",
      "include_colab_link": true
    },
    "kernelspec": {
      "name": "python3",
      "display_name": "Python 3"
    },
    "language_info": {
      "name": "python"
    }
  },
  "cells": [
    {
      "cell_type": "markdown",
      "metadata": {
        "id": "view-in-github",
        "colab_type": "text"
      },
      "source": [
        "<a href=\"https://colab.research.google.com/github/joseramirez2102/Analisis_de_datos/blob/main/laboratorio_2_josedanielramirez.ipynb\" target=\"_parent\"><img src=\"https://colab.research.google.com/assets/colab-badge.svg\" alt=\"Open In Colab\"/></a>"
      ]
    },
    {
      "cell_type": "code",
      "execution_count": null,
      "metadata": {
        "id": "dvWNipcK3TB2"
      },
      "outputs": [],
      "source": [
        "#Decoracion: Nombre de algoritmo\n",
        "print(\"-----------------------------------------------------------\")\n",
        "print(\"Ejemplo 2: Imprimir el menor de dos numeros.\")\n",
        "print(\"-----------------------------------------------------------\")\n",
        "#Entradas\n",
        "print(\"Ingresedos numeros:\")\n",
        "x=int(input(\"Ingrese el primer numero: \"))\n",
        "y=int(input(\"Ingrese el segundo numero: \"))\n",
        "print(\"\\nSalida: \")\n",
        "print(\"-----------------------------------------------------------\")\n",
        "#Condicion\n",
        "if x > y:\n",
        "  print(\"El menor es: \", y)\n",
        "else:\n",
        "  print(\"El menor es: \", x)"
      ]
    },
    {
      "cell_type": "code",
      "source": [
        "switcher={1: \"Enero\", 2: \"Febrero\", 3: \"Marzo\", 4: \"Abril\", 5: \"Mayo\", 6: \"Junio\", 7: \"Julio\", 8: \"Agosto\", 9: \"Septiembre\", 10: \"Octubre\", 11: \"Noviembre\", 12: \"Diciembre\",}\n",
        "argument=int(input(\"Ingrese un numero: \"))\n",
        "nameMes=switcher.get(argument, \"Mes Inválido\")\n",
        "print(nameMes)"
      ],
      "metadata": {
        "id": "nlYbr71_5V4t"
      },
      "execution_count": null,
      "outputs": []
    }
  ]
}